{
 "cells": [
  {
   "cell_type": "markdown",
   "id": "48b1bc7a-bfc4-4e5f-b040-7a57afa633de",
   "metadata": {},
   "source": [
    "# [ DATA SCIENCE ] Assignment\n",
    "## [ CHI-SQUARE TEST ]\n",
    "## S.AKHIL\n",
    "### Gmail : akhilsangamrjasn@gmail.com"
   ]
  },
  {
   "cell_type": "markdown",
   "id": "4a2abfe1-fe2c-4ab0-a67e-8addf15c4d7c",
   "metadata": {},
   "source": [
    "## 1. State the Hypotheses"
   ]
  },
  {
   "cell_type": "markdown",
   "id": "47182a46-a0b4-4fd4-9e15-df9afeee8ad0",
   "metadata": {},
   "source": [
    "## H0: The type of smart home device (Smart Thermostat vs. Smart Light) is independent of customer satisfaction level.\n",
    " \n",
    "## Ha: The type of smart home device and customer satisfaction level are associated\n",
    "\n",
    "\n",
    "H0 (Null Hypothesis): Imagine we're saying, \"Whether a customer likes a smart thermostat or a smart light, their satisfaction level doesn't change. The type of device doesn't make a difference to how happy they are.\"\n",
    "\n",
    "Ha (Alternative Hypothesis): On the flip side, we're suggesting, \"The kind of smart home device a customer uses (smart thermostat vs. smart light) does affect their happiness. The type of device is linked to how satisfied they feel.\""
   ]
  },
  {
   "cell_type": "markdown",
   "id": "140b8e84-cf32-4128-98f5-32197a3800cf",
   "metadata": {},
   "source": [
    "## 2. Compute the Chi-Square Statistic:"
   ]
  },
  {
   "cell_type": "markdown",
   "id": "30453bf3-0c4f-404b-8af8-e428e12d6d2e",
   "metadata": {},
   "source": [
    " Here Satisfaction of Smart Thermostat is represnted by set A and Smart Light by set B"
   ]
  },
  {
   "cell_type": "code",
   "execution_count": 101,
   "id": "6fcc7387-e083-4901-acfa-90a5e061a21c",
   "metadata": {},
   "outputs": [],
   "source": [
    "import numpy as np\n",
    "import scipy.stats as stats"
   ]
  },
  {
   "cell_type": "code",
   "execution_count": 103,
   "id": "d4b13248-3f1b-4fe5-983c-6cb094e6206b",
   "metadata": {},
   "outputs": [
    {
     "name": "stdout",
     "output_type": "stream",
     "text": [
      "48.0 72.0\n"
     ]
    }
   ],
   "source": [
    "x=[50,80,60,30,20]\n",
    "y=[70,100,90,50,50]\n",
    "## to calculate the mean of the data\n",
    "x_mean = np.mean(x)\n",
    "y_mean= np.mean(y)\n",
    "print(x_mean,y_mean)"
   ]
  },
  {
   "cell_type": "code",
   "execution_count": 105,
   "id": "0e98da03-4bd1-4d5d-8914-a1f5af3451d5",
   "metadata": {},
   "outputs": [],
   "source": [
    "# Observed frequencies\n",
    "obs = np.array([\n",
    "    [50, 70],\n",
    "    [80, 100],\n",
    "    [60, 90],\n",
    "    [30, 50],\n",
    "    [20, 50]\n",
    "])"
   ]
  },
  {
   "cell_type": "code",
   "execution_count": 107,
   "id": "e4a2039e-757f-4920-bd9e-d0bcd7d6d8b8",
   "metadata": {},
   "outputs": [],
   "source": [
    "# Row and column totals\n",
    "row_totals = obs.sum(axis=1) # axis = 1 is for rows\n",
    "col_totals = obs.sum(axis=0) # axis = 0 is for columns\n",
    "grand_total = obs.sum()"
   ]
  },
  {
   "cell_type": "code",
   "execution_count": 109,
   "id": "c8fa8c25-77e1-4f92-92a0-81fc002d4318",
   "metadata": {},
   "outputs": [],
   "source": [
    "# Expected frequencies\n",
    "exp_f= np.outer(row_totals, col_totals) / grand_total"
   ]
  },
  {
   "cell_type": "code",
   "execution_count": 111,
   "id": "7189b97e-fa72-42b2-8dad-fcd0e09bf088",
   "metadata": {},
   "outputs": [],
   "source": [
    "# Compute Chi-Square Statistic\n",
    "chi_square_stat = ((obs - exp_f) ** 2 / exp_f).sum()"
   ]
  },
  {
   "cell_type": "code",
   "execution_count": 113,
   "id": "500e417d-bb84-4ddf-8b40-4de1bfeb7661",
   "metadata": {},
   "outputs": [],
   "source": [
    "# Degrees of freedom\n",
    "rows, cols = obs.shape\n",
    "df = (rows - 1) * (cols - 1)"
   ]
  },
  {
   "cell_type": "code",
   "execution_count": 115,
   "id": "97c4f8df-1661-42cf-a40e-6b6c18ed2166",
   "metadata": {},
   "outputs": [],
   "source": [
    "# Critical value at alpha = 0.05\n",
    "alpha = 0.05\n",
    "critical_value = stats.chi2.ppf(1 - alpha, df)"
   ]
  },
  {
   "cell_type": "code",
   "execution_count": 117,
   "id": "3c299dc2-f8d2-41a6-997e-1a66f4be8dc8",
   "metadata": {},
   "outputs": [],
   "source": [
    "# p-value\n",
    "p_value = stats.chi2.sf(chi_square_stat, df)"
   ]
  },
  {
   "cell_type": "code",
   "execution_count": 119,
   "id": "db0923cd-9eb0-4ac6-b200-452a37995e4d",
   "metadata": {},
   "outputs": [],
   "source": [
    "# Decision\n",
    "if chi_square_stat > critical_value:\n",
    "    conclusion = \"Reject the null hypothesis (H0).\"\n",
    "else:\n",
    "     conclusion = \"Fail to reject the null hypothesis (H0).\""
   ]
  },
  {
   "cell_type": "code",
   "execution_count": 121,
   "id": "2ce9c1ed-9860-4ac4-b4ee-ab05c9c477ae",
   "metadata": {},
   "outputs": [
    {
     "name": "stdout",
     "output_type": "stream",
     "text": [
      "Chi-Square Statistic: 5.64\n",
      "Degrees of Freedom: 4\n",
      "Critical Value: 9.49\n",
      "p-value: 0.2278\n",
      "Decision: Fail to reject the null hypothesis (H0).\n"
     ]
    }
   ],
   "source": [
    "# Output results\n",
    "print(\"Chi-Square Statistic:\", round(chi_square_stat, 2))\n",
    "print(\"Degrees of Freedom:\", df)\n",
    "print(\"Critical Value:\", round(critical_value, 2))\n",
    "print(\"p-value:\", round(p_value, 4))\n",
    "print(\"Decision:\", conclusion)"
   ]
  },
  {
   "cell_type": "markdown",
   "id": "2cc06886-a982-474e-b1c0-9fa50b31616e",
   "metadata": {},
   "source": [
    "## 3.The Critical Value Using the alpha of 0.05 and the degrees of freedom is 9.49"
   ]
  },
  {
   "cell_type": "markdown",
   "id": "a4546693-865d-46d7-8b49-c44062f7cb6d",
   "metadata": {},
   "source": [
    "## DECISION : "
   ]
  },
  {
   "cell_type": "markdown",
   "id": "09c2d37e-6576-4a42-bddc-862b8882d7b9",
   "metadata": {},
   "source": [
    "FAIL TO REJECT THE NULL HYPOTHESIS"
   ]
  },
  {
   "cell_type": "markdown",
   "id": "e4b9e168-204d-4294-bcc9-356e27e62d10",
   "metadata": {},
   "source": [
    "## Steps to Perform the  Chi-Square Statistic value"
   ]
  },
  {
   "cell_type": "markdown",
   "id": "17c8292e-5fc7-4821-acc5-4da16cecf86e",
   "metadata": {},
   "source": [
    "STEP_1: Calculate the expected frequencies for each cell using the formula:\n",
    "(Row_Total * Column_Total) / (Grand_Total)\n",
    "\n",
    "STEP_2: computing the chi-Square Statistic\n",
    "\n",
    "Step_3: Determine the critical Value:\n",
    "        The degrees of Freedom(df) are calculates as: \n",
    "            df = (number_of_rows-1) * (number_of_columns-1)\n",
    "            Alpha = 0.05\n",
    "\n",
    "STEP_4: compare the computed X Square value to the critical value\n",
    "            If X Square Value is Greater than Critical_Value then Reject H0\n",
    "            otherwise\n",
    "            Fail to Reject the H0"
   ]
  },
  {
   "cell_type": "markdown",
   "id": "01614db8-81ae-42bc-902e-2339663bcdb1",
   "metadata": {},
   "source": [
    "## Values "
   ]
  },
  {
   "cell_type": "markdown",
   "id": "fdb31395-d79f-4f2a-a048-51aafa172183",
   "metadata": {},
   "source": [
    "1. Chi-Square Statistic: 5.64\n",
    "2. Degrees of Freedom: 4\n",
    "3. Critical Value: 9.49\n",
    "4. p-value: 0.2278\n",
    "5. Decision: Fail to reject the null hypothesis (H0)."
   ]
  },
  {
   "cell_type": "markdown",
   "id": "9701ccb0-708c-44af-ba90-90b4d1715471",
   "metadata": {},
   "source": [
    "## CONCLUSION"
   ]
  },
  {
   "cell_type": "markdown",
   "id": "13351708-e00c-40df-849f-0a17b6b4090b",
   "metadata": {},
   "source": [
    "#### After performing the Chi-Square test for independence, the results are as follows:\n",
    "\n",
    "Chi-Square Statistic: Measures how much the observed data differs from what we expected.\n",
    "\n",
    "Critical Value: A specific value from the Chi-Square table based on a significance level (alpha = 0.05) and degrees of freedom.\n",
    "\n",
    "Decision: We compare the Chi-Square statistic to the critical value to make our conclusion.\n",
    "\n",
    "#### Based on the analysis:\n",
    "We fail to reject the null hypothesis (𝐻0).\n",
    "\n",
    "This means there is no significant association between the type of smart home device (Smart Thermostat vs. Smart Light) and customer satisfaction level.\n",
    "\n",
    "Interpretation: Customer satisfaction levels are similar regardless  or do not significantly differ,whether they bought a Smart Thermostat or a Smart Light."
   ]
  },
  {
   "cell_type": "code",
   "execution_count": null,
   "id": "5bca02c7-0171-4955-98de-f51edf9d5b56",
   "metadata": {},
   "outputs": [],
   "source": []
  }
 ],
 "metadata": {
  "kernelspec": {
   "display_name": "Python 3 (ipykernel)",
   "language": "python",
   "name": "python3"
  },
  "language_info": {
   "codemirror_mode": {
    "name": "ipython",
    "version": 3
   },
   "file_extension": ".py",
   "mimetype": "text/x-python",
   "name": "python",
   "nbconvert_exporter": "python",
   "pygments_lexer": "ipython3",
   "version": "3.12.3"
  }
 },
 "nbformat": 4,
 "nbformat_minor": 5
}
