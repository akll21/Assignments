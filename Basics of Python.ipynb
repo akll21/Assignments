{
 "cells": [
  {
   "cell_type": "markdown",
   "id": "afe694b5-6686-41b7-a391-ae2b8da3c2b5",
   "metadata": {},
   "source": [
    "# Exercise 1: Prime Numbers\n"
   ]
  },
  {
   "cell_type": "markdown",
   "id": "aaf57602-16e7-490f-b47d-7d093b91f08f",
   "metadata": {},
   "source": [
    "### Write a Python program that checks whether a given number is prime or not. A prime number is a natural number greater than 1 that has no positive divisors other than 1 and itself."
   ]
  },
  {
   "cell_type": "code",
   "execution_count": 37,
   "id": "d57b8d6a-0971-4d8f-950a-b5f776fc0dfe",
   "metadata": {},
   "outputs": [
    {
     "name": "stdout",
     "output_type": "stream",
     "text": [
      "PRIME NUMBER\n"
     ]
    }
   ],
   "source": [
    "def prime_number(n):\n",
    "    count=0\n",
    "    for i in range (2,n):\n",
    "        if n%i == 0:\n",
    "            count=count+1\n",
    "    if(count == 0):\n",
    "        print(\"PRIME NUMBER\")\n",
    "    else:\n",
    "        print(\"NOT PRIME NUMBER\")\n",
    "prime_number(7)"
   ]
  },
  {
   "cell_type": "markdown",
   "id": "9ab6bda6-7a25-4c6b-a6cc-45b000476cdb",
   "metadata": {},
   "source": [
    "# Exercise 2: Product of Random Numbers"
   ]
  },
  {
   "cell_type": "markdown",
   "id": "84771b96-978e-4980-98d3-7cba4d0a462d",
   "metadata": {},
   "source": [
    "### Develop a Python program that generates two random numbers and asks the user to enter the product of these numbers. The program should then check if the user's answer is correct and display an appropriate message."
   ]
  },
  {
   "cell_type": "code",
   "execution_count": 41,
   "id": "1a06e0d5-694f-4141-915b-aab19d00c0e7",
   "metadata": {},
   "outputs": [
    {
     "name": "stdout",
     "output_type": "stream",
     "text": [
      "product of 2 9\n"
     ]
    },
    {
     "name": "stdin",
     "output_type": "stream",
     "text": [
      " 18\n"
     ]
    },
    {
     "name": "stdout",
     "output_type": "stream",
     "text": [
      "Your answer is correct\n"
     ]
    }
   ],
   "source": [
    "import random\n",
    "A=random.randint(1,10)\n",
    "B=random.randint(1,10)\n",
    "\n",
    "print(\"product of\",A,B)\n",
    "ans=int(input())\n",
    "\n",
    "if (ans == (A*B)):\n",
    "    print(\"Your answer is correct\")\n",
    "else:\n",
    "    print(ans)\n",
    "    print(\"STUPID!!\")"
   ]
  },
  {
   "cell_type": "markdown",
   "id": "2a1c0f20-f5d2-4afe-8c35-5165048ef4a2",
   "metadata": {},
   "source": [
    "# Exercise 3: Squares of Even/Odd Numbers"
   ]
  },
  {
   "cell_type": "markdown",
   "id": "02cd0d65-242e-4756-9087-3c9e6059ff45",
   "metadata": {},
   "source": [
    "### Create a Python script that prints the squares of all even or odd numbers within the range of 100 to 200. Choose either even or odd numbers and document your choice in the code."
   ]
  },
  {
   "cell_type": "code",
   "execution_count": 35,
   "id": "2bcc3e9a-2194-4712-9a14-ff342d2001f2",
   "metadata": {},
   "outputs": [
    {
     "name": "stdout",
     "output_type": "stream",
     "text": [
      "The square of 50 is 2500\n",
      "The square of 52 is 2704\n",
      "The square of 54 is 2916\n",
      "The square of 56 is 3136\n",
      "The square of 58 is 3364\n",
      "The square of 60 is 3600\n",
      "The square of 62 is 3844\n",
      "The square of 64 is 4096\n",
      "The square of 66 is 4356\n",
      "The square of 68 is 4624\n",
      "The square of 70 is 4900\n",
      "The square of 72 is 5184\n",
      "The square of 74 is 5476\n",
      "The square of 76 is 5776\n",
      "The square of 78 is 6084\n",
      "The square of 80 is 6400\n",
      "The square of 82 is 6724\n",
      "The square of 84 is 7056\n",
      "The square of 86 is 7396\n",
      "The square of 88 is 7744\n",
      "The square of 90 is 8100\n",
      "The square of 92 is 8464\n",
      "The square of 94 is 8836\n",
      "The square of 96 is 9216\n",
      "The square of 98 is 9604\n",
      "The square of 100 is 10000\n"
     ]
    }
   ],
   "source": [
    "def print_squares_of_evens(start, end):\n",
    "    for number in range(start, end + 1):\n",
    "        if number % 2 == 0:  \n",
    "            print(f\"The square of {number} is {number ** 2}\")\n",
    "start_range = 50\n",
    "end_range = 100\n",
    "print_squares_of_evens(start_range, end_range)"
   ]
  },
  {
   "cell_type": "markdown",
   "id": "396434bf-62c9-4313-b762-168f5e4c1d28",
   "metadata": {},
   "source": [
    "# Exercise 4: Word counter"
   ]
  },
  {
   "cell_type": "markdown",
   "id": "6593da15-e2a5-46db-98f4-0c14a141e7bc",
   "metadata": {},
   "source": [
    "### write a program to count the number of words in a given text."
   ]
  },
  {
   "cell_type": "code",
   "execution_count": 95,
   "id": "170d566a-a261-48ce-b98a-cecdce8666c9",
   "metadata": {},
   "outputs": [
    {
     "name": "stdout",
     "output_type": "stream",
     "text": [
      "'This': 2\n",
      "'is': 1\n",
      "'a': 1\n",
      "'sample': 1\n",
      "'text.': 1\n",
      "'text': 1\n",
      "'will': 1\n",
      "'be': 1\n",
      "'used': 1\n",
      "'to': 1\n",
      "'demonstrate': 1\n",
      "'the': 1\n",
      "'word': 1\n",
      "'counter.': 1\n"
     ]
    }
   ],
   "source": [
    "from collections import Counter\n",
    "input_text = \"This is a sample text. This text will be used to demonstrate the word counter.\"\n",
    "def count_words(text):\n",
    "    words = text.split()\n",
    "    word_counts = Counter(words)\n",
    "    \n",
    "    return word_counts\n",
    "word_count_dict = count_words(input_text)\n",
    "for word, count in word_count_dict.items():\n",
    "    print(f\"'{word}': {count}\")"
   ]
  },
  {
   "cell_type": "markdown",
   "id": "0576a118-f529-41ec-add4-6e2d39a6a1d8",
   "metadata": {},
   "source": [
    "# Exercise 5: Check for Palindrome"
   ]
  },
  {
   "cell_type": "markdown",
   "id": "f41c48d7-218f-4338-bf81-1a46ca4c30dc",
   "metadata": {},
   "source": [
    "### Write a Python function called is_palindrome that takes a string as input and returns True if the string is a palindrome, and False otherwise. A palindrome is a word, phrase, number, or other sequence of characters that reads the same forward and backward, ignoring spaces, punctuation, and capitalization."
   ]
  },
  {
   "cell_type": "code",
   "execution_count": 33,
   "id": "c9117d9a-0446-49fb-b2b7-b974a202c081",
   "metadata": {},
   "outputs": [
    {
     "name": "stdout",
     "output_type": "stream",
     "text": [
      "True\n",
      "False\n",
      "True\n"
     ]
    }
   ],
   "source": [
    "import re\n",
    "def is_palindrome(input_string):\n",
    "      cleaned_string = re.sub(r'[^a-zA-Z0-9]', '', input_string).lower()\n",
    "      return cleaned_string == cleaned_string[::-1]\n",
    "print(is_palindrome(\"RADAR\"))  \n",
    "print(is_palindrome(\"A EXCELER\"))  \n",
    "print(is_palindrome(\"A man, a plan, a canal, Panama!\"))  "
   ]
  },
  {
   "cell_type": "code",
   "execution_count": null,
   "id": "3c1531f5-4fb8-4f00-8354-e0803105cbce",
   "metadata": {},
   "outputs": [],
   "source": []
  },
  {
   "cell_type": "code",
   "execution_count": null,
   "id": "ca9bbb82-90d0-418e-9c25-2fa8a8be1ef5",
   "metadata": {},
   "outputs": [],
   "source": []
  }
 ],
 "metadata": {
  "kernelspec": {
   "display_name": "Python 3 (ipykernel)",
   "language": "python",
   "name": "python3"
  },
  "language_info": {
   "codemirror_mode": {
    "name": "ipython",
    "version": 3
   },
   "file_extension": ".py",
   "mimetype": "text/x-python",
   "name": "python",
   "nbconvert_exporter": "python",
   "pygments_lexer": "ipython3",
   "version": "3.12.3"
  }
 },
 "nbformat": 4,
 "nbformat_minor": 5
}
