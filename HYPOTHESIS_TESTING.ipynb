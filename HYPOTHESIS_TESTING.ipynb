{
 "cells": [
  {
   "cell_type": "markdown",
   "id": "28bcaa4e-7d4c-48ae-bf72-2bfce097705f",
   "metadata": {},
   "source": [
    "# [ DATA SCIENCE ] Assignment\n",
    "## [ HYPOTHESIS_TESTING ]\n",
    "## S.AKHIL\n",
    "### Gmail : akhilsangamrjasn@gmail.com"
   ]
  },
  {
   "cell_type": "markdown",
   "id": "992b12b8-738c-449c-888b-ba5ab99bb026",
   "metadata": {},
   "source": [
    "## 1. State the hypotheses statement"
   ]
  },
  {
   "cell_type": "markdown",
   "id": "5f205569-da59-4929-8c03-2da114627364",
   "metadata": {},
   "source": [
    "Null Hypothesis (H0): The mean weekly operating cost matches the theoretical model: \n",
    "μ=1,000+5×600=4,000.\n",
    "\n",
    "Alternative Hypothesis (𝐻𝑎): The mean weekly operating cost is greater than the theoretical model: \n",
    "𝜇>4,000. \n",
    "Here, only testing for an increase in cost"
   ]
  },
  {
   "cell_type": "markdown",
   "id": "13403ff1-2182-4001-a63d-138caf32a05c",
   "metadata": {},
   "source": [
    "## 2. Calculate the Test Statistic"
   ]
  },
  {
   "cell_type": "code",
   "execution_count": 1,
   "id": "10ddff79-59b1-4cf5-8b1a-2c5808da8bc4",
   "metadata": {},
   "outputs": [],
   "source": [
    "import math\n",
    "from scipy.stats import norm"
   ]
  },
  {
   "cell_type": "code",
   "execution_count": 2,
   "id": "e06c1c69-8251-484d-ba06-eab8cf8ef793",
   "metadata": {},
   "outputs": [],
   "source": [
    "# Given data\n",
    "sample_mean = 3050  # Sample mean weekly cost\n",
    "theoretical_mean = 1000 + 5 * 600  # Theoretical weekly cost\n",
    "std_dev = 5 * 25  # Standard deviation\n",
    "sample_size = 25  # Sample size\n",
    "alpha = 0.05  # Significance level"
   ]
  },
  {
   "cell_type": "code",
   "execution_count": 5,
   "id": "6f5eaa26-da1d-4cbd-ac03-2125195f5532",
   "metadata": {},
   "outputs": [],
   "source": [
    "# Calculate test statistic\n",
    "t_statistic = (sample_mean - theoretical_mean) / (std_dev / math.sqrt(sample_size))"
   ]
  },
  {
   "cell_type": "code",
   "execution_count": 7,
   "id": "19092901-3455-421c-be85-e04236e01fe3",
   "metadata": {},
   "outputs": [],
   "source": [
    "# Determine critical value for a one-tailed test\n",
    "critical_value = norm.ppf(1 - alpha)"
   ]
  },
  {
   "cell_type": "code",
   "execution_count": 9,
   "id": "b6159e5d-5297-4d3e-bbe1-ae158aeacdf5",
   "metadata": {},
   "outputs": [],
   "source": [
    "# Decision\n",
    "if t_statistic > critical_value:\n",
    "    conclusion= \"Reject the null hypothesis (H0).\"\n",
    "else:\n",
    "    conclusion = \"Fail to reject the null hypothesis (H0).\""
   ]
  },
  {
   "cell_type": "code",
   "execution_count": 17,
   "id": "f6fc2a07-80d9-4454-b5af-df8335c3b9ce",
   "metadata": {},
   "outputs": [
    {
     "name": "stdout",
     "output_type": "stream",
     "text": [
      "Sample Mean : 3050\n",
      "Theoretical Mean : 4000\n",
      "Standard Deviation : 125\n",
      "Sample Size : 25\n",
      "Test Statistic : -38.0\n",
      "Critical Value (Z-alpha): 1.64\n",
      "Decision: Fail to reject the null hypothesis (H0).\n"
     ]
    }
   ],
   "source": [
    "# Output results\n",
    "print(\"Sample Mean :\", sample_mean)\n",
    "print(\"Theoretical Mean :\", theoretical_mean)\n",
    "print(\"Standard Deviation :\", std_dev)\n",
    "print(\"Sample Size :\", sample_size)\n",
    "print(\"Test Statistic :\", round(t_statistic, 2))\n",
    "print(\"Critical Value (Z-alpha):\", round(critical_value, 2))\n",
    "print(\"Decision:\", conclusion)"
   ]
  },
  {
   "cell_type": "markdown",
   "id": "d46d0db1-202f-43bc-b56a-d5e21dfa5b1f",
   "metadata": {},
   "source": [
    "## 3. Critical Value (alpha=0.05)"
   ]
  },
  {
   "cell_type": "markdown",
   "id": "c240cdad-06c1-4ff4-ab38-70c1f87fff55",
   "metadata": {},
   "source": [
    "Critical Value (Zalpha): 1.64"
   ]
  },
  {
   "cell_type": "markdown",
   "id": "d48cfac4-613e-4118-affa-7a65692d3661",
   "metadata": {},
   "source": [
    "## 4. Make a Decision"
   ]
  },
  {
   "cell_type": "markdown",
   "id": "528387c2-f6e0-4f2f-8f2e-1766b5349bf2",
   "metadata": {},
   "source": [
    "Compare the computed \n",
    "𝑡\n",
    "t-statistic with the critical value:\n",
    "\n",
    "𝑡>Critical Valuet: Reject 𝐻0​(evidence supports the claim that costs are higher).\n",
    "Otherwise,\n",
    "fail to reject 𝐻0 "
   ]
  },
  {
   "cell_type": "markdown",
   "id": "117e4980-3e0c-4052-a569-4cf0a92ba188",
   "metadata": {},
   "source": [
    "##  Formula for calculate the Test_Statistic, Crticial_Value, Decision_make using if statement."
   ]
  },
  {
   "cell_type": "markdown",
   "id": "e039bad9-b6b7-4106-a6bd-f8f1aacb3bf2",
   "metadata": {},
   "source": [
    "Formula:\n",
    "1. t_statistic = (sample_mean - theoretical_mean) / (std_dev / math.sqrt(sample_size))\n",
    "2. critical_value = norm.ppf(1 - alpha)\n",
    "3. if t_statistic > critical_value:\n",
    "    decision = \"Reject the null hypothesis (H0).\"\n",
    "else:\n",
    "    decision = \"Fail to reject the null hypothesis (H0).\""
   ]
  },
  {
   "cell_type": "markdown",
   "id": "efe715bf-2311-403a-8e61-8b662a7c59d2",
   "metadata": {},
   "source": [
    "## Steps to Perform the Hypothesis_Testing Statistic value"
   ]
  },
  {
   "cell_type": "markdown",
   "id": "5cbc9ced-959a-4107-81b8-1c21331e7640",
   "metadata": {},
   "source": [
    "Step 1: collecting the Given data(sample_mean, theoretical_mean,std_dev,sample_size,alpha = 0.05).\n",
    "\n",
    "Step 2: Calculate test statistic(t_statistic), critical_value and Making Decison using the if statement.\n",
    "\n",
    "Step 3: Print all the values"
   ]
  },
  {
   "cell_type": "markdown",
   "id": "4f43ae7e-ce44-4bbd-8949-440a878a16c6",
   "metadata": {},
   "source": [
    "## Values:"
   ]
  },
  {
   "cell_type": "markdown",
   "id": "9b984686-5ae1-42a8-9115-d2f18215d380",
   "metadata": {},
   "source": [
    "1. Sample Mean : 3050\n",
    "\n",
    "2. Theoretical Mean : 4000\n",
    "\n",
    "3. Standard Deviation : 125\n",
    "\n",
    "4. Sample Size : 25\n",
    "\n",
    "5. Test Statistic : -38.0\n",
    "\n",
    "6. Critical Value (Zalpha): 1.64"
   ]
  },
  {
   "cell_type": "markdown",
   "id": "875b5534-c632-42ba-9707-43db815f72e2",
   "metadata": {},
   "source": [
    "## 5. Conclusion\n",
    "\n",
    "By Analyze the data provides strong evidence that weekly operating costs are higher than predicted by the model.\n",
    "\n",
    "The observed sample mean (3,050) is significantly lower than the theoretical mean (4,000), suggesting the costs may actually be lower than expected."
   ]
  }
 ],
 "metadata": {
  "kernelspec": {
   "display_name": "Python 3 (ipykernel)",
   "language": "python",
   "name": "python3"
  },
  "language_info": {
   "codemirror_mode": {
    "name": "ipython",
    "version": 3
   },
   "file_extension": ".py",
   "mimetype": "text/x-python",
   "name": "python",
   "nbconvert_exporter": "python",
   "pygments_lexer": "ipython3",
   "version": "3.12.3"
  }
 },
 "nbformat": 4,
 "nbformat_minor": 5
}
