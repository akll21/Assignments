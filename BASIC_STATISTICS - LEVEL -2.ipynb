{
 "cells": [
  {
   "cell_type": "markdown",
   "id": "f3f5fb53-95b3-4420-a470-7e63081fb5b5",
   "metadata": {},
   "source": [
    "# [ DATA SCIENCE ] Assignment\n",
    "# [ BASIC STATISTICS LEVEL - 2]\n",
    "# S.AKHIL\n",
    "# Gmail : akhilsangamrjasn@gmail.com"
   ]
  },
  {
   "cell_type": "code",
   "execution_count": 22,
   "id": "e3834623-8216-4505-9ce4-e4475c0ccf5d",
   "metadata": {},
   "outputs": [],
   "source": [
    "import numpy as np\n",
    "from scipy.stats import t, norm"
   ]
  },
  {
   "cell_type": "code",
   "execution_count": 24,
   "id": "4bb2007b-fd8c-42a8-8537-d6012cf059cd",
   "metadata": {},
   "outputs": [],
   "source": [
    "#GIVEN DATA TAKEN IN ARRAY\n",
    "x = np.array([1.13, 1.55, 1.43, 0.92, 1.25, 1.36, 1.32, 0.85, 1.07, 1.48, 1.20, 1.33, 1.18, 1.22, 1.29])\n",
    "y = len(x)\n",
    "C_I = 0.99 #CONFIDENCE INTERVAL\n",
    "alpha = 1 - C_I\n",
    "# alpha = 0.01"
   ]
  },
  {
   "cell_type": "code",
   "execution_count": 26,
   "id": "849f9a34-0b4e-4813-a6c4-12b22f2fef9d",
   "metadata": {},
   "outputs": [],
   "source": [
    "# Sample mean and standard deviation\n",
    "sample_mean = np.mean(x)\n",
    "sample_std = np.std(x, ddof=1)"
   ]
  },
  {
   "cell_type": "markdown",
   "id": "d3e84dd7-bce1-4597-8c57-b7b139da60b7",
   "metadata": {},
   "source": [
    "## TASK 1: Build a 99% confidence interval using Sample_Standard_Deviation"
   ]
  },
  {
   "cell_type": "code",
   "execution_count": 31,
   "id": "33c8ca6d-2caf-4c2e-9ccd-b0248eade971",
   "metadata": {},
   "outputs": [],
   "source": [
    "# Part A: Confidence interval using sample standard deviation (t-distribution)\n",
    "t_critical = t.ppf(1 - alpha / 2, df=y - 1)\n",
    "margin_of_error_t = t_critical * (sample_std / np.sqrt(y))\n",
    "ci_t = (sample_mean - margin_of_error_t, sample_mean + margin_of_error_t)"
   ]
  },
  {
   "cell_type": "markdown",
   "id": "89c952ab-b60a-4c09-a6dd-4a7539330da8",
   "metadata": {},
   "source": [
    "## TASK 2: Build a 99% confidence interval using known Population_Standard_Deviation"
   ]
  },
  {
   "cell_type": "code",
   "execution_count": 33,
   "id": "5289d042-4eb6-4309-b3f1-04ee5640d47c",
   "metadata": {},
   "outputs": [
    {
     "data": {
      "text/plain": [
       "(1.2386666666666666,\n",
       " 0.19316412956959936,\n",
       " (1.0901973384384906, 1.3871359948948425),\n",
       " (1.1056514133957607, 1.3716819199375725))"
      ]
     },
     "execution_count": 33,
     "metadata": {},
     "output_type": "execute_result"
    }
   ],
   "source": [
    "# Part B: Confidence interval using known population standard deviation (z-distribution)\n",
    "population_std = 0.2\n",
    "z_critical = norm.ppf(1 - alpha / 2)\n",
    "margin_of_error_z = z_critical * (population_std / np.sqrt(y))\n",
    "ci_z = (sample_mean - margin_of_error_z, sample_mean + margin_of_error_z)\n",
    "\n",
    "sample_mean, sample_std, ci_t, ci_z"
   ]
  },
  {
   "cell_type": "code",
   "execution_count": 35,
   "id": "47f53267-bc55-40df-bc04-faea793e5ee1",
   "metadata": {},
   "outputs": [
    {
     "name": "stdout",
     "output_type": "stream",
     "text": [
      "Sample mean = 1.2386666666666666\n",
      "sample_standard = 0.19316412956959936\n",
      "t-Critical = 2.976842734370834\n",
      "Margin_of_Error= 0.13301525327090588\n",
      "Population_standard_Deviation: (1.1056514133957607, 1.3716819199375725)\n"
     ]
    }
   ],
   "source": [
    "print('Sample mean =', sample_mean)\n",
    "print('sample_standard =', sample_std)\n",
    "print('t-Critical =', t_critical)\n",
    "print('Margin_of_Error=', margin_of_error_z)\n",
    "print('Population_standard_Deviation:',ci_z )"
   ]
  },
  {
   "cell_type": "markdown",
   "id": "d2d9838a-6d1e-4ae2-a02d-dd2f97c6c059",
   "metadata": {},
   "source": [
    "# CONCULSION"
   ]
  },
  {
   "cell_type": "markdown",
   "id": "20cb7e72-6483-4ffd-952d-72997fc7d226",
   "metadata": {},
   "source": [
    "1. Sample_Mean                    = 1.239 million.\n",
    "2. Sample_standard_Deviation      = 0.193 million.\n",
    "3. 99% Confidence Interval        = 1.090 million to 1.372 million\n",
    "4. Population_Standard_Deviation  = 0.2 million\n",
    "5. 99% Confidence Interval        = 1.106 million to 1.372 million"
   ]
  },
  {
   "cell_type": "markdown",
   "id": "180ed769-7e34-4909-89c0-c54b7de656c9",
   "metadata": {},
   "source": [
    "The confidence interval using the sample standard deviation is slightly wider than the one using the known population standard ddeviation. This is because estimating the standard deviation introduces additional uncertainty."
   ]
  }
 ],
 "metadata": {
  "kernelspec": {
   "display_name": "Python 3 (ipykernel)",
   "language": "python",
   "name": "python3"
  },
  "language_info": {
   "codemirror_mode": {
    "name": "ipython",
    "version": 3
   },
   "file_extension": ".py",
   "mimetype": "text/x-python",
   "name": "python",
   "nbconvert_exporter": "python",
   "pygments_lexer": "ipython3",
   "version": "3.12.3"
  }
 },
 "nbformat": 4,
 "nbformat_minor": 5
}
